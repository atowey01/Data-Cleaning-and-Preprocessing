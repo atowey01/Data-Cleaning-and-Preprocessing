{
 "cells": [
  {
   "cell_type": "markdown",
   "id": "ba3714be",
   "metadata": {},
   "source": [
    "- **Author:** Aisling Towey\n",
    "- **Date:** 2nd June 2021"
   ]
  },
  {
   "cell_type": "markdown",
   "id": "678f1f98",
   "metadata": {
    "toc": true
   },
   "source": [
    "<h1>Table of Contents<span class=\"tocSkip\"></span></h1>\n",
    "<div class=\"toc\"><ul class=\"toc-item\"><li><span><a href=\"#Import-Modules\" data-toc-modified-id=\"Import-Modules-1\"><span class=\"toc-item-num\">1&nbsp;&nbsp;</span>Import Modules</a></span></li><li><span><a href=\"#Creating-Date-Time-Objects\" data-toc-modified-id=\"Creating-Date-Time-Objects-2\"><span class=\"toc-item-num\">2&nbsp;&nbsp;</span>Creating Date Time Objects</a></span></li><li><span><a href=\"#DateTime-Arithmetic\" data-toc-modified-id=\"DateTime-Arithmetic-3\"><span class=\"toc-item-num\">3&nbsp;&nbsp;</span>DateTime Arithmetic</a></span></li><li><span><a href=\"#Timezones\" data-toc-modified-id=\"Timezones-4\"><span class=\"toc-item-num\">4&nbsp;&nbsp;</span>Timezones</a></span></li><li><span><a href=\"#Working-with-Dates-and-Times-in-Pandas\" data-toc-modified-id=\"Working-with-Dates-and-Times-in-Pandas-5\"><span class=\"toc-item-num\">5&nbsp;&nbsp;</span>Working with Dates and Times in Pandas</a></span></li></ul></div>"
   ]
  },
  {
   "cell_type": "markdown",
   "id": "ca630e65",
   "metadata": {},
   "source": [
    "# Import Modules"
   ]
  },
  {
   "cell_type": "markdown",
   "id": "c4be1f7b",
   "metadata": {},
   "source": [
    "A date is not a data type in python so we need to use other modules to work with them. There are many modules not built into python for dealing with dates such as Arrow and Delorean but the inbuilt modules allow you to do most of what you will need to do.\n",
    "\n",
    "The main inbuilt modules to use are datetime and pytz. In this notebook we will look at how to use both of these modules and also how to work with datetimes in pandas.\n",
    "\n",
    "Note - be aware of the following when using Pytz: https://blog.ganssle.io/articles/2018/03/pytz-fastest-footgun.html"
   ]
  },
  {
   "cell_type": "code",
   "execution_count": 1,
   "id": "ac7ee631",
   "metadata": {},
   "outputs": [],
   "source": [
    "from datetime import datetime, date, time, timedelta\n",
    "import pytz\n",
    "from pytz import timezone"
   ]
  },
  {
   "cell_type": "markdown",
   "id": "7e6e270c",
   "metadata": {},
   "source": [
    "# Creating Date Time Objects"
   ]
  },
  {
   "cell_type": "markdown",
   "id": "6147948c",
   "metadata": {},
   "source": [
    "First let's see how to create some datetime objects. We can use the datetime module to achieve this."
   ]
  },
  {
   "cell_type": "code",
   "execution_count": 2,
   "id": "bedc7604",
   "metadata": {},
   "outputs": [
    {
     "data": {
      "text/plain": [
       "datetime.datetime(2021, 5, 30, 12, 15, 15)"
      ]
     },
     "execution_count": 2,
     "metadata": {},
     "output_type": "execute_result"
    }
   ],
   "source": [
    "start_date_time = datetime(year=2021, month=5, day=30, hour=12, minute=15, second=15)\n",
    "start_date_time"
   ]
  },
  {
   "cell_type": "markdown",
   "id": "79c23043",
   "metadata": {},
   "source": [
    "We can use the date or time modules separately if we only want to get a date or time. We can also combine dates and times."
   ]
  },
  {
   "cell_type": "code",
   "execution_count": 3,
   "id": "b8893c1b",
   "metadata": {},
   "outputs": [
    {
     "data": {
      "text/plain": [
       "datetime.datetime(2021, 7, 5, 16, 30)"
      ]
     },
     "execution_count": 3,
     "metadata": {},
     "output_type": "execute_result"
    }
   ],
   "source": [
    "end_date = date(year=2021, month=7, day=5)\n",
    "end_time = time(hour=16, minute=30, second=0)\n",
    "end_date_time = datetime.combine(end_date, end_time)\n",
    "end_date_time"
   ]
  },
  {
   "cell_type": "markdown",
   "id": "ad0d3f1f",
   "metadata": {},
   "source": [
    "We can get the date and time out of a datetime object."
   ]
  },
  {
   "cell_type": "code",
   "execution_count": 4,
   "id": "7e7d9014",
   "metadata": {},
   "outputs": [
    {
     "name": "stdout",
     "output_type": "stream",
     "text": [
      "2021-07-05\n",
      "16:30:00\n"
     ]
    }
   ],
   "source": [
    "print(end_date_time.date())\n",
    "print(end_date_time.time())"
   ]
  },
  {
   "cell_type": "markdown",
   "id": "412f0487",
   "metadata": {},
   "source": [
    "We can get the current date time as below."
   ]
  },
  {
   "cell_type": "code",
   "execution_count": 5,
   "id": "9e563764",
   "metadata": {},
   "outputs": [
    {
     "name": "stdout",
     "output_type": "stream",
     "text": [
      "2022-03-10 15:01:22.536777\n",
      "2022-03-10\n"
     ]
    }
   ],
   "source": [
    "print(datetime.now())\n",
    "print(date.today())"
   ]
  },
  {
   "cell_type": "markdown",
   "id": "f6bf069c",
   "metadata": {},
   "source": [
    "We may want to convert a string to datetime. We can use the .strptime() method for this. With .strptime() you tell Python what each of the parts of the string represents using different codes. See example below, you can find the codes here: https://www.programiz.com/python-programming/datetime/strptime"
   ]
  },
  {
   "cell_type": "code",
   "execution_count": 6,
   "id": "75a385e0",
   "metadata": {},
   "outputs": [
    {
     "data": {
      "text/plain": [
       "datetime.datetime(2021, 5, 30, 12, 15, 30)"
      ]
     },
     "execution_count": 6,
     "metadata": {},
     "output_type": "execute_result"
    }
   ],
   "source": [
    "string_converted_time = datetime.strptime(\"30-05-2021 12:15:30\", \"%d-%m-%Y %H:%M:%S\")\n",
    "string_converted_time"
   ]
  },
  {
   "cell_type": "markdown",
   "id": "6718e9f9",
   "metadata": {},
   "source": [
    "To convert this datetime to seconds (UTC) we can using the timestamp() method."
   ]
  },
  {
   "cell_type": "code",
   "execution_count": 7,
   "id": "62ba18cb",
   "metadata": {},
   "outputs": [
    {
     "data": {
      "text/plain": [
       "1622373330.0"
      ]
     },
     "execution_count": 7,
     "metadata": {},
     "output_type": "execute_result"
    }
   ],
   "source": [
    "seconds_timestamp = datetime.timestamp(string_converted_time)\n",
    "seconds_timestamp"
   ]
  },
  {
   "cell_type": "markdown",
   "id": "f1343104",
   "metadata": {},
   "source": [
    "To convert UTC seconds to datetime we can use the fromtimestamp module()."
   ]
  },
  {
   "cell_type": "code",
   "execution_count": 8,
   "id": "b700295b",
   "metadata": {},
   "outputs": [
    {
     "data": {
      "text/plain": [
       "datetime.datetime(2021, 5, 30, 12, 15, 30)"
      ]
     },
     "execution_count": 8,
     "metadata": {},
     "output_type": "execute_result"
    }
   ],
   "source": [
    "datetime.fromtimestamp(seconds_timestamp)"
   ]
  },
  {
   "cell_type": "markdown",
   "id": "f83c3316",
   "metadata": {},
   "source": [
    "If you needed to change the datetime object back to a string you can use .strftime() instead of .strptime().\n",
    "- datetime.strptime(): convert string to datetime object\n",
    "- datetime.strftime(): convert datetime object to string"
   ]
  },
  {
   "cell_type": "code",
   "execution_count": 9,
   "id": "3a5332fb",
   "metadata": {},
   "outputs": [
    {
     "data": {
      "text/plain": [
       "'30:05:2021 12:15:30'"
      ]
     },
     "execution_count": 9,
     "metadata": {},
     "output_type": "execute_result"
    }
   ],
   "source": [
    "datetime.strftime(string_converted_time, \"%d:%m:%Y %H:%M:%S\")"
   ]
  },
  {
   "cell_type": "markdown",
   "id": "816a5756",
   "metadata": {},
   "source": [
    "# DateTime Arithmetic"
   ]
  },
  {
   "cell_type": "markdown",
   "id": "20fd12cf",
   "metadata": {},
   "source": [
    "timedelta objects represent the difference / change in time between two datetime objects. If we take away one datetime object from another the result will be a timedelta object."
   ]
  },
  {
   "cell_type": "code",
   "execution_count": 10,
   "id": "73c9928e",
   "metadata": {},
   "outputs": [
    {
     "data": {
      "text/plain": [
       "datetime.timedelta(days=36, seconds=15285)"
      ]
     },
     "execution_count": 10,
     "metadata": {},
     "output_type": "execute_result"
    }
   ],
   "source": [
    "time_difference = end_date_time - start_date_time\n",
    "time_difference"
   ]
  },
  {
   "cell_type": "markdown",
   "id": "f68d73ae",
   "metadata": {},
   "source": [
    "We can use timedelta object to subtract or add to a datetime."
   ]
  },
  {
   "cell_type": "code",
   "execution_count": 11,
   "id": "cd7eb3fc",
   "metadata": {},
   "outputs": [
    {
     "name": "stdout",
     "output_type": "stream",
     "text": [
      "End Time: 2021-07-05 16:30:00\n",
      "New End Time: 2021-07-04 16:30:00\n"
     ]
    }
   ],
   "source": [
    "print(f'End Time: {end_date_time}')\n",
    "new_end_time = end_date_time-timedelta(hours=24)\n",
    "print(f'New End Time: {new_end_time}')"
   ]
  },
  {
   "cell_type": "markdown",
   "id": "3702d105",
   "metadata": {},
   "source": [
    "# Timezones"
   ]
  },
  {
   "cell_type": "markdown",
   "id": "3dc09bd5",
   "metadata": {},
   "source": [
    "The inbuilt pytz module can be used to deal with timezones. Let's look at the start_date_time. start_date_time is known as a \"timezone naive\" timestamp as it does not have any timezone information."
   ]
  },
  {
   "cell_type": "code",
   "execution_count": 12,
   "id": "62682ec9",
   "metadata": {},
   "outputs": [
    {
     "data": {
      "text/plain": [
       "datetime.datetime(2021, 5, 30, 12, 15, 15)"
      ]
     },
     "execution_count": 12,
     "metadata": {},
     "output_type": "execute_result"
    }
   ],
   "source": [
    "start_date_time"
   ]
  },
  {
   "cell_type": "markdown",
   "id": "57e3fcc9",
   "metadata": {},
   "source": [
    "Lets make start_date_time \"timezone aware\". We can do this using pytz timezones and the localize() method. When we use the localize() method the time will not change. It is assumed that the timezone you are assinging the time is the timezone the time was actually in even when it was naive."
   ]
  },
  {
   "cell_type": "code",
   "execution_count": 13,
   "id": "d48280f6",
   "metadata": {},
   "outputs": [
    {
     "data": {
      "text/plain": [
       "datetime.datetime(2021, 5, 30, 12, 15, 15, tzinfo=<DstTzInfo 'Europe/Moscow' MSK+3:00:00 STD>)"
      ]
     },
     "execution_count": 13,
     "metadata": {},
     "output_type": "execute_result"
    }
   ],
   "source": [
    "start_date_time_aware = pytz.timezone('Europe/Moscow').localize(start_date_time)\n",
    "start_date_time_aware # note the time has not changed but now this time is timezone aware"
   ]
  },
  {
   "cell_type": "markdown",
   "id": "dc77525a",
   "metadata": {},
   "source": [
    "To view the names of all timezones we can use pytz.all_timezones()."
   ]
  },
  {
   "cell_type": "code",
   "execution_count": 14,
   "id": "465fdbba",
   "metadata": {},
   "outputs": [
    {
     "data": {
      "text/plain": [
       "['Africa/Abidjan',\n",
       " 'Africa/Accra',\n",
       " 'Africa/Addis_Ababa',\n",
       " 'Africa/Algiers',\n",
       " 'Africa/Asmara']"
      ]
     },
     "execution_count": 14,
     "metadata": {},
     "output_type": "execute_result"
    }
   ],
   "source": [
    "pytz.all_timezones[0:5]"
   ]
  },
  {
   "cell_type": "markdown",
   "id": "ffcef5ca",
   "metadata": {},
   "source": [
    "Now we can change the timezone to any timezone we want."
   ]
  },
  {
   "cell_type": "code",
   "execution_count": 15,
   "id": "37823308",
   "metadata": {},
   "outputs": [
    {
     "data": {
      "text/plain": [
       "datetime.datetime(2021, 5, 30, 5, 15, 15, tzinfo=<DstTzInfo 'US/Eastern' EDT-1 day, 20:00:00 DST>)"
      ]
     },
     "execution_count": 15,
     "metadata": {},
     "output_type": "execute_result"
    }
   ],
   "source": [
    "start_date_time_aware.astimezone(pytz.timezone('US/Eastern'))"
   ]
  },
  {
   "cell_type": "markdown",
   "id": "f58f1433",
   "metadata": {},
   "source": [
    "# Working with Dates and Times in Pandas"
   ]
  },
  {
   "cell_type": "markdown",
   "id": "c2baacd9",
   "metadata": {},
   "source": [
    "We can easily work with datetimes in pandas dataframes. First we need to install and import pandas."
   ]
  },
  {
   "cell_type": "code",
   "execution_count": 16,
   "id": "4237af41",
   "metadata": {},
   "outputs": [],
   "source": [
    "# !pip install pandas\n",
    "import pandas as pd"
   ]
  },
  {
   "cell_type": "markdown",
   "id": "e4a4a06f",
   "metadata": {},
   "source": [
    "Let's create a simple dataframe for us to work with."
   ]
  },
  {
   "cell_type": "code",
   "execution_count": 17,
   "id": "19b89160",
   "metadata": {
    "code_folding": []
   },
   "outputs": [
    {
     "data": {
      "text/html": [
       "<div>\n",
       "<style scoped>\n",
       "    .dataframe tbody tr th:only-of-type {\n",
       "        vertical-align: middle;\n",
       "    }\n",
       "\n",
       "    .dataframe tbody tr th {\n",
       "        vertical-align: top;\n",
       "    }\n",
       "\n",
       "    .dataframe thead th {\n",
       "        text-align: right;\n",
       "    }\n",
       "</style>\n",
       "<table border=\"1\" class=\"dataframe\">\n",
       "  <thead>\n",
       "    <tr style=\"text-align: right;\">\n",
       "      <th></th>\n",
       "      <th>date_time</th>\n",
       "      <th>count</th>\n",
       "    </tr>\n",
       "  </thead>\n",
       "  <tbody>\n",
       "    <tr>\n",
       "      <th>0</th>\n",
       "      <td>2021-01-06 14:15:00</td>\n",
       "      <td>100</td>\n",
       "    </tr>\n",
       "    <tr>\n",
       "      <th>1</th>\n",
       "      <td>2021-02-06 17:45:00</td>\n",
       "      <td>200</td>\n",
       "    </tr>\n",
       "    <tr>\n",
       "      <th>2</th>\n",
       "      <td>2021-03-06 03:30:00</td>\n",
       "      <td>300</td>\n",
       "    </tr>\n",
       "    <tr>\n",
       "      <th>3</th>\n",
       "      <td>2018-03-02 07:30:00</td>\n",
       "      <td>1000</td>\n",
       "    </tr>\n",
       "    <tr>\n",
       "      <th>4</th>\n",
       "      <td>2018-01-10 18:15:00</td>\n",
       "      <td>500</td>\n",
       "    </tr>\n",
       "  </tbody>\n",
       "</table>\n",
       "</div>"
      ],
      "text/plain": [
       "            date_time  count\n",
       "0 2021-01-06 14:15:00    100\n",
       "1 2021-02-06 17:45:00    200\n",
       "2 2021-03-06 03:30:00    300\n",
       "3 2018-03-02 07:30:00   1000\n",
       "4 2018-01-10 18:15:00    500"
      ]
     },
     "execution_count": 17,
     "metadata": {},
     "output_type": "execute_result"
    }
   ],
   "source": [
    "df = pd.DataFrame({'date_time': ['1/6/2021 14:15:00', '2/6/2021 17:45:00', '3/6/2021 3:30:00', '3/2/2018 7:30:00', '1/10/2018 18:15:00'],\n",
    "                   'count': [100, 200, 300, 1000, 500]})\n",
    "df['date_time'] = pd.to_datetime(df['date_time']) \n",
    "# if the date is not in US format, we can add \"dayfirst=True\"\n",
    "# we can also add format=\"%Y-%d-%m %H:%M:%S\" depending on the structure of our timestamp string\n",
    "df"
   ]
  },
  {
   "cell_type": "markdown",
   "id": "cc498e58",
   "metadata": {},
   "source": [
    "In pandas we use the dt accessor object to access the datetimelike properties of pandas Series. For example we can get the date and time individually from the datetime by using the dt accessor. We can get round datetimes up or down to the nearest hour or day using dt.floor() and dt.ceil(). There are multiple other attributes such as dt.dayofweek, dt.week. "
   ]
  },
  {
   "cell_type": "code",
   "execution_count": 18,
   "id": "49f41d6b",
   "metadata": {},
   "outputs": [
    {
     "data": {
      "text/html": [
       "<div>\n",
       "<style scoped>\n",
       "    .dataframe tbody tr th:only-of-type {\n",
       "        vertical-align: middle;\n",
       "    }\n",
       "\n",
       "    .dataframe tbody tr th {\n",
       "        vertical-align: top;\n",
       "    }\n",
       "\n",
       "    .dataframe thead th {\n",
       "        text-align: right;\n",
       "    }\n",
       "</style>\n",
       "<table border=\"1\" class=\"dataframe\">\n",
       "  <thead>\n",
       "    <tr style=\"text-align: right;\">\n",
       "      <th></th>\n",
       "      <th>date_time</th>\n",
       "      <th>count</th>\n",
       "      <th>time</th>\n",
       "      <th>date</th>\n",
       "      <th>date_time_hour_floor</th>\n",
       "      <th>date_time_hour_ceiling</th>\n",
       "    </tr>\n",
       "  </thead>\n",
       "  <tbody>\n",
       "    <tr>\n",
       "      <th>0</th>\n",
       "      <td>2021-01-06 14:15:00</td>\n",
       "      <td>100</td>\n",
       "      <td>14:15:00</td>\n",
       "      <td>2021-01-06</td>\n",
       "      <td>2021-01-06 14:00:00</td>\n",
       "      <td>2021-01-06 15:00:00</td>\n",
       "    </tr>\n",
       "    <tr>\n",
       "      <th>1</th>\n",
       "      <td>2021-02-06 17:45:00</td>\n",
       "      <td>200</td>\n",
       "      <td>17:45:00</td>\n",
       "      <td>2021-02-06</td>\n",
       "      <td>2021-02-06 17:00:00</td>\n",
       "      <td>2021-02-06 18:00:00</td>\n",
       "    </tr>\n",
       "    <tr>\n",
       "      <th>2</th>\n",
       "      <td>2021-03-06 03:30:00</td>\n",
       "      <td>300</td>\n",
       "      <td>03:30:00</td>\n",
       "      <td>2021-03-06</td>\n",
       "      <td>2021-03-06 03:00:00</td>\n",
       "      <td>2021-03-06 04:00:00</td>\n",
       "    </tr>\n",
       "    <tr>\n",
       "      <th>3</th>\n",
       "      <td>2018-03-02 07:30:00</td>\n",
       "      <td>1000</td>\n",
       "      <td>07:30:00</td>\n",
       "      <td>2018-03-02</td>\n",
       "      <td>2018-03-02 07:00:00</td>\n",
       "      <td>2018-03-02 08:00:00</td>\n",
       "    </tr>\n",
       "    <tr>\n",
       "      <th>4</th>\n",
       "      <td>2018-01-10 18:15:00</td>\n",
       "      <td>500</td>\n",
       "      <td>18:15:00</td>\n",
       "      <td>2018-01-10</td>\n",
       "      <td>2018-01-10 18:00:00</td>\n",
       "      <td>2018-01-10 19:00:00</td>\n",
       "    </tr>\n",
       "  </tbody>\n",
       "</table>\n",
       "</div>"
      ],
      "text/plain": [
       "            date_time  count      time        date date_time_hour_floor  \\\n",
       "0 2021-01-06 14:15:00    100  14:15:00  2021-01-06  2021-01-06 14:00:00   \n",
       "1 2021-02-06 17:45:00    200  17:45:00  2021-02-06  2021-02-06 17:00:00   \n",
       "2 2021-03-06 03:30:00    300  03:30:00  2021-03-06  2021-03-06 03:00:00   \n",
       "3 2018-03-02 07:30:00   1000  07:30:00  2018-03-02  2018-03-02 07:00:00   \n",
       "4 2018-01-10 18:15:00    500  18:15:00  2018-01-10  2018-01-10 18:00:00   \n",
       "\n",
       "  date_time_hour_ceiling  \n",
       "0    2021-01-06 15:00:00  \n",
       "1    2021-02-06 18:00:00  \n",
       "2    2021-03-06 04:00:00  \n",
       "3    2018-03-02 08:00:00  \n",
       "4    2018-01-10 19:00:00  "
      ]
     },
     "execution_count": 18,
     "metadata": {},
     "output_type": "execute_result"
    }
   ],
   "source": [
    "df['time'] = df['date_time'].dt.time\n",
    "df['date'] = df['date_time'].dt.date\n",
    "df['date_time_hour_floor'] = df['date_time'].dt.floor('H')\n",
    "df['date_time_hour_ceiling'] = df['date_time'].dt.ceil('H')\n",
    "df.head()"
   ]
  },
  {
   "cell_type": "markdown",
   "id": "546ef951",
   "metadata": {},
   "source": [
    "If we set the date_time column as the dataframe index we can select and filter data easier."
   ]
  },
  {
   "cell_type": "code",
   "execution_count": 19,
   "id": "622ac827",
   "metadata": {},
   "outputs": [
    {
     "data": {
      "text/html": [
       "<div>\n",
       "<style scoped>\n",
       "    .dataframe tbody tr th:only-of-type {\n",
       "        vertical-align: middle;\n",
       "    }\n",
       "\n",
       "    .dataframe tbody tr th {\n",
       "        vertical-align: top;\n",
       "    }\n",
       "\n",
       "    .dataframe thead th {\n",
       "        text-align: right;\n",
       "    }\n",
       "</style>\n",
       "<table border=\"1\" class=\"dataframe\">\n",
       "  <thead>\n",
       "    <tr style=\"text-align: right;\">\n",
       "      <th></th>\n",
       "      <th>count</th>\n",
       "      <th>time</th>\n",
       "      <th>date</th>\n",
       "      <th>date_time_hour_floor</th>\n",
       "      <th>date_time_hour_ceiling</th>\n",
       "    </tr>\n",
       "    <tr>\n",
       "      <th>date_time</th>\n",
       "      <th></th>\n",
       "      <th></th>\n",
       "      <th></th>\n",
       "      <th></th>\n",
       "      <th></th>\n",
       "    </tr>\n",
       "  </thead>\n",
       "  <tbody>\n",
       "    <tr>\n",
       "      <th>2021-01-06 14:15:00</th>\n",
       "      <td>100</td>\n",
       "      <td>14:15:00</td>\n",
       "      <td>2021-01-06</td>\n",
       "      <td>2021-01-06 14:00:00</td>\n",
       "      <td>2021-01-06 15:00:00</td>\n",
       "    </tr>\n",
       "    <tr>\n",
       "      <th>2021-02-06 17:45:00</th>\n",
       "      <td>200</td>\n",
       "      <td>17:45:00</td>\n",
       "      <td>2021-02-06</td>\n",
       "      <td>2021-02-06 17:00:00</td>\n",
       "      <td>2021-02-06 18:00:00</td>\n",
       "    </tr>\n",
       "    <tr>\n",
       "      <th>2021-03-06 03:30:00</th>\n",
       "      <td>300</td>\n",
       "      <td>03:30:00</td>\n",
       "      <td>2021-03-06</td>\n",
       "      <td>2021-03-06 03:00:00</td>\n",
       "      <td>2021-03-06 04:00:00</td>\n",
       "    </tr>\n",
       "    <tr>\n",
       "      <th>2018-03-02 07:30:00</th>\n",
       "      <td>1000</td>\n",
       "      <td>07:30:00</td>\n",
       "      <td>2018-03-02</td>\n",
       "      <td>2018-03-02 07:00:00</td>\n",
       "      <td>2018-03-02 08:00:00</td>\n",
       "    </tr>\n",
       "    <tr>\n",
       "      <th>2018-01-10 18:15:00</th>\n",
       "      <td>500</td>\n",
       "      <td>18:15:00</td>\n",
       "      <td>2018-01-10</td>\n",
       "      <td>2018-01-10 18:00:00</td>\n",
       "      <td>2018-01-10 19:00:00</td>\n",
       "    </tr>\n",
       "  </tbody>\n",
       "</table>\n",
       "</div>"
      ],
      "text/plain": [
       "                     count      time        date date_time_hour_floor  \\\n",
       "date_time                                                               \n",
       "2021-01-06 14:15:00    100  14:15:00  2021-01-06  2021-01-06 14:00:00   \n",
       "2021-02-06 17:45:00    200  17:45:00  2021-02-06  2021-02-06 17:00:00   \n",
       "2021-03-06 03:30:00    300  03:30:00  2021-03-06  2021-03-06 03:00:00   \n",
       "2018-03-02 07:30:00   1000  07:30:00  2018-03-02  2018-03-02 07:00:00   \n",
       "2018-01-10 18:15:00    500  18:15:00  2018-01-10  2018-01-10 18:00:00   \n",
       "\n",
       "                    date_time_hour_ceiling  \n",
       "date_time                                   \n",
       "2021-01-06 14:15:00    2021-01-06 15:00:00  \n",
       "2021-02-06 17:45:00    2021-02-06 18:00:00  \n",
       "2021-03-06 03:30:00    2021-03-06 04:00:00  \n",
       "2018-03-02 07:30:00    2018-03-02 08:00:00  \n",
       "2018-01-10 18:15:00    2018-01-10 19:00:00  "
      ]
     },
     "execution_count": 19,
     "metadata": {},
     "output_type": "execute_result"
    }
   ],
   "source": [
    "df = df.set_index(['date_time'])\n",
    "df"
   ]
  },
  {
   "cell_type": "markdown",
   "id": "5bf65194",
   "metadata": {},
   "source": [
    "Now we can filter data with very little code. For example to get rows from 2021 we use the below. We can then perform aggregation and groupby operations on this filtered data."
   ]
  },
  {
   "cell_type": "code",
   "execution_count": 20,
   "id": "6a9d83b4",
   "metadata": {},
   "outputs": [
    {
     "data": {
      "text/html": [
       "<div>\n",
       "<style scoped>\n",
       "    .dataframe tbody tr th:only-of-type {\n",
       "        vertical-align: middle;\n",
       "    }\n",
       "\n",
       "    .dataframe tbody tr th {\n",
       "        vertical-align: top;\n",
       "    }\n",
       "\n",
       "    .dataframe thead th {\n",
       "        text-align: right;\n",
       "    }\n",
       "</style>\n",
       "<table border=\"1\" class=\"dataframe\">\n",
       "  <thead>\n",
       "    <tr style=\"text-align: right;\">\n",
       "      <th></th>\n",
       "      <th>count</th>\n",
       "      <th>time</th>\n",
       "      <th>date</th>\n",
       "      <th>date_time_hour_floor</th>\n",
       "      <th>date_time_hour_ceiling</th>\n",
       "    </tr>\n",
       "    <tr>\n",
       "      <th>date_time</th>\n",
       "      <th></th>\n",
       "      <th></th>\n",
       "      <th></th>\n",
       "      <th></th>\n",
       "      <th></th>\n",
       "    </tr>\n",
       "  </thead>\n",
       "  <tbody>\n",
       "    <tr>\n",
       "      <th>2021-01-06 14:15:00</th>\n",
       "      <td>100</td>\n",
       "      <td>14:15:00</td>\n",
       "      <td>2021-01-06</td>\n",
       "      <td>2021-01-06 14:00:00</td>\n",
       "      <td>2021-01-06 15:00:00</td>\n",
       "    </tr>\n",
       "    <tr>\n",
       "      <th>2021-02-06 17:45:00</th>\n",
       "      <td>200</td>\n",
       "      <td>17:45:00</td>\n",
       "      <td>2021-02-06</td>\n",
       "      <td>2021-02-06 17:00:00</td>\n",
       "      <td>2021-02-06 18:00:00</td>\n",
       "    </tr>\n",
       "    <tr>\n",
       "      <th>2021-03-06 03:30:00</th>\n",
       "      <td>300</td>\n",
       "      <td>03:30:00</td>\n",
       "      <td>2021-03-06</td>\n",
       "      <td>2021-03-06 03:00:00</td>\n",
       "      <td>2021-03-06 04:00:00</td>\n",
       "    </tr>\n",
       "  </tbody>\n",
       "</table>\n",
       "</div>"
      ],
      "text/plain": [
       "                     count      time        date date_time_hour_floor  \\\n",
       "date_time                                                               \n",
       "2021-01-06 14:15:00    100  14:15:00  2021-01-06  2021-01-06 14:00:00   \n",
       "2021-02-06 17:45:00    200  17:45:00  2021-02-06  2021-02-06 17:00:00   \n",
       "2021-03-06 03:30:00    300  03:30:00  2021-03-06  2021-03-06 03:00:00   \n",
       "\n",
       "                    date_time_hour_ceiling  \n",
       "date_time                                   \n",
       "2021-01-06 14:15:00    2021-01-06 15:00:00  \n",
       "2021-02-06 17:45:00    2021-02-06 18:00:00  \n",
       "2021-03-06 03:30:00    2021-03-06 04:00:00  "
      ]
     },
     "execution_count": 20,
     "metadata": {},
     "output_type": "execute_result"
    }
   ],
   "source": [
    "df.loc['2021']"
   ]
  },
  {
   "cell_type": "markdown",
   "id": "b6e32f43",
   "metadata": {},
   "source": [
    "Working with timezones in pandas is similar to what we have already discussed. Let remove the date_time as an index and set as a standard column. We can then localize the date_time column."
   ]
  },
  {
   "cell_type": "code",
   "execution_count": 21,
   "id": "bb7551a7",
   "metadata": {},
   "outputs": [
    {
     "data": {
      "text/html": [
       "<div>\n",
       "<style scoped>\n",
       "    .dataframe tbody tr th:only-of-type {\n",
       "        vertical-align: middle;\n",
       "    }\n",
       "\n",
       "    .dataframe tbody tr th {\n",
       "        vertical-align: top;\n",
       "    }\n",
       "\n",
       "    .dataframe thead th {\n",
       "        text-align: right;\n",
       "    }\n",
       "</style>\n",
       "<table border=\"1\" class=\"dataframe\">\n",
       "  <thead>\n",
       "    <tr style=\"text-align: right;\">\n",
       "      <th></th>\n",
       "      <th>date_time</th>\n",
       "      <th>count</th>\n",
       "      <th>time</th>\n",
       "      <th>date</th>\n",
       "      <th>date_time_hour_floor</th>\n",
       "      <th>date_time_hour_ceiling</th>\n",
       "    </tr>\n",
       "  </thead>\n",
       "  <tbody>\n",
       "    <tr>\n",
       "      <th>0</th>\n",
       "      <td>2021-01-06 14:15:00+03:00</td>\n",
       "      <td>100</td>\n",
       "      <td>14:15:00</td>\n",
       "      <td>2021-01-06</td>\n",
       "      <td>2021-01-06 14:00:00</td>\n",
       "      <td>2021-01-06 15:00:00</td>\n",
       "    </tr>\n",
       "    <tr>\n",
       "      <th>1</th>\n",
       "      <td>2021-02-06 17:45:00+03:00</td>\n",
       "      <td>200</td>\n",
       "      <td>17:45:00</td>\n",
       "      <td>2021-02-06</td>\n",
       "      <td>2021-02-06 17:00:00</td>\n",
       "      <td>2021-02-06 18:00:00</td>\n",
       "    </tr>\n",
       "    <tr>\n",
       "      <th>2</th>\n",
       "      <td>2021-03-06 03:30:00+03:00</td>\n",
       "      <td>300</td>\n",
       "      <td>03:30:00</td>\n",
       "      <td>2021-03-06</td>\n",
       "      <td>2021-03-06 03:00:00</td>\n",
       "      <td>2021-03-06 04:00:00</td>\n",
       "    </tr>\n",
       "    <tr>\n",
       "      <th>3</th>\n",
       "      <td>2018-03-02 07:30:00+03:00</td>\n",
       "      <td>1000</td>\n",
       "      <td>07:30:00</td>\n",
       "      <td>2018-03-02</td>\n",
       "      <td>2018-03-02 07:00:00</td>\n",
       "      <td>2018-03-02 08:00:00</td>\n",
       "    </tr>\n",
       "    <tr>\n",
       "      <th>4</th>\n",
       "      <td>2018-01-10 18:15:00+03:00</td>\n",
       "      <td>500</td>\n",
       "      <td>18:15:00</td>\n",
       "      <td>2018-01-10</td>\n",
       "      <td>2018-01-10 18:00:00</td>\n",
       "      <td>2018-01-10 19:00:00</td>\n",
       "    </tr>\n",
       "  </tbody>\n",
       "</table>\n",
       "</div>"
      ],
      "text/plain": [
       "                  date_time  count      time        date date_time_hour_floor  \\\n",
       "0 2021-01-06 14:15:00+03:00    100  14:15:00  2021-01-06  2021-01-06 14:00:00   \n",
       "1 2021-02-06 17:45:00+03:00    200  17:45:00  2021-02-06  2021-02-06 17:00:00   \n",
       "2 2021-03-06 03:30:00+03:00    300  03:30:00  2021-03-06  2021-03-06 03:00:00   \n",
       "3 2018-03-02 07:30:00+03:00   1000  07:30:00  2018-03-02  2018-03-02 07:00:00   \n",
       "4 2018-01-10 18:15:00+03:00    500  18:15:00  2018-01-10  2018-01-10 18:00:00   \n",
       "\n",
       "  date_time_hour_ceiling  \n",
       "0    2021-01-06 15:00:00  \n",
       "1    2021-02-06 18:00:00  \n",
       "2    2021-03-06 04:00:00  \n",
       "3    2018-03-02 08:00:00  \n",
       "4    2018-01-10 19:00:00  "
      ]
     },
     "execution_count": 21,
     "metadata": {},
     "output_type": "execute_result"
    }
   ],
   "source": [
    "df.reset_index(inplace=True)\n",
    "df['date_time'] = df['date_time'].dt.tz_localize(pytz.timezone('Europe/Moscow'))\n",
    "df.head()"
   ]
  },
  {
   "cell_type": "markdown",
   "id": "3a0caf1c",
   "metadata": {},
   "source": [
    "Like previously we can then convert the date_time column to any timezone we want but we use dt.tz_covert() to achieve this."
   ]
  },
  {
   "cell_type": "code",
   "execution_count": 22,
   "id": "0c515943",
   "metadata": {},
   "outputs": [
    {
     "data": {
      "text/html": [
       "<div>\n",
       "<style scoped>\n",
       "    .dataframe tbody tr th:only-of-type {\n",
       "        vertical-align: middle;\n",
       "    }\n",
       "\n",
       "    .dataframe tbody tr th {\n",
       "        vertical-align: top;\n",
       "    }\n",
       "\n",
       "    .dataframe thead th {\n",
       "        text-align: right;\n",
       "    }\n",
       "</style>\n",
       "<table border=\"1\" class=\"dataframe\">\n",
       "  <thead>\n",
       "    <tr style=\"text-align: right;\">\n",
       "      <th></th>\n",
       "      <th>date_time</th>\n",
       "      <th>count</th>\n",
       "      <th>time</th>\n",
       "      <th>date</th>\n",
       "      <th>date_time_hour_floor</th>\n",
       "      <th>date_time_hour_ceiling</th>\n",
       "    </tr>\n",
       "  </thead>\n",
       "  <tbody>\n",
       "    <tr>\n",
       "      <th>0</th>\n",
       "      <td>2021-01-06 06:15:00-05:00</td>\n",
       "      <td>100</td>\n",
       "      <td>14:15:00</td>\n",
       "      <td>2021-01-06</td>\n",
       "      <td>2021-01-06 14:00:00</td>\n",
       "      <td>2021-01-06 15:00:00</td>\n",
       "    </tr>\n",
       "    <tr>\n",
       "      <th>1</th>\n",
       "      <td>2021-02-06 09:45:00-05:00</td>\n",
       "      <td>200</td>\n",
       "      <td>17:45:00</td>\n",
       "      <td>2021-02-06</td>\n",
       "      <td>2021-02-06 17:00:00</td>\n",
       "      <td>2021-02-06 18:00:00</td>\n",
       "    </tr>\n",
       "    <tr>\n",
       "      <th>2</th>\n",
       "      <td>2021-03-05 19:30:00-05:00</td>\n",
       "      <td>300</td>\n",
       "      <td>03:30:00</td>\n",
       "      <td>2021-03-06</td>\n",
       "      <td>2021-03-06 03:00:00</td>\n",
       "      <td>2021-03-06 04:00:00</td>\n",
       "    </tr>\n",
       "    <tr>\n",
       "      <th>3</th>\n",
       "      <td>2018-03-01 23:30:00-05:00</td>\n",
       "      <td>1000</td>\n",
       "      <td>07:30:00</td>\n",
       "      <td>2018-03-02</td>\n",
       "      <td>2018-03-02 07:00:00</td>\n",
       "      <td>2018-03-02 08:00:00</td>\n",
       "    </tr>\n",
       "    <tr>\n",
       "      <th>4</th>\n",
       "      <td>2018-01-10 10:15:00-05:00</td>\n",
       "      <td>500</td>\n",
       "      <td>18:15:00</td>\n",
       "      <td>2018-01-10</td>\n",
       "      <td>2018-01-10 18:00:00</td>\n",
       "      <td>2018-01-10 19:00:00</td>\n",
       "    </tr>\n",
       "  </tbody>\n",
       "</table>\n",
       "</div>"
      ],
      "text/plain": [
       "                  date_time  count      time        date date_time_hour_floor  \\\n",
       "0 2021-01-06 06:15:00-05:00    100  14:15:00  2021-01-06  2021-01-06 14:00:00   \n",
       "1 2021-02-06 09:45:00-05:00    200  17:45:00  2021-02-06  2021-02-06 17:00:00   \n",
       "2 2021-03-05 19:30:00-05:00    300  03:30:00  2021-03-06  2021-03-06 03:00:00   \n",
       "3 2018-03-01 23:30:00-05:00   1000  07:30:00  2018-03-02  2018-03-02 07:00:00   \n",
       "4 2018-01-10 10:15:00-05:00    500  18:15:00  2018-01-10  2018-01-10 18:00:00   \n",
       "\n",
       "  date_time_hour_ceiling  \n",
       "0    2021-01-06 15:00:00  \n",
       "1    2021-02-06 18:00:00  \n",
       "2    2021-03-06 04:00:00  \n",
       "3    2018-03-02 08:00:00  \n",
       "4    2018-01-10 19:00:00  "
      ]
     },
     "execution_count": 22,
     "metadata": {},
     "output_type": "execute_result"
    }
   ],
   "source": [
    "df['date_time'] = df['date_time'].dt.tz_convert('US/Eastern')\n",
    "df.head()"
   ]
  },
  {
   "cell_type": "markdown",
   "id": "0fd46813",
   "metadata": {},
   "source": [
    "We can get rid of the timezone information by using dt.tz_localize(None)."
   ]
  },
  {
   "cell_type": "code",
   "execution_count": 23,
   "id": "c375d14a",
   "metadata": {},
   "outputs": [
    {
     "data": {
      "text/html": [
       "<div>\n",
       "<style scoped>\n",
       "    .dataframe tbody tr th:only-of-type {\n",
       "        vertical-align: middle;\n",
       "    }\n",
       "\n",
       "    .dataframe tbody tr th {\n",
       "        vertical-align: top;\n",
       "    }\n",
       "\n",
       "    .dataframe thead th {\n",
       "        text-align: right;\n",
       "    }\n",
       "</style>\n",
       "<table border=\"1\" class=\"dataframe\">\n",
       "  <thead>\n",
       "    <tr style=\"text-align: right;\">\n",
       "      <th></th>\n",
       "      <th>date_time</th>\n",
       "      <th>count</th>\n",
       "      <th>time</th>\n",
       "      <th>date</th>\n",
       "      <th>date_time_hour_floor</th>\n",
       "      <th>date_time_hour_ceiling</th>\n",
       "    </tr>\n",
       "  </thead>\n",
       "  <tbody>\n",
       "    <tr>\n",
       "      <th>0</th>\n",
       "      <td>2021-01-06 06:15:00</td>\n",
       "      <td>100</td>\n",
       "      <td>14:15:00</td>\n",
       "      <td>2021-01-06</td>\n",
       "      <td>2021-01-06 14:00:00</td>\n",
       "      <td>2021-01-06 15:00:00</td>\n",
       "    </tr>\n",
       "    <tr>\n",
       "      <th>1</th>\n",
       "      <td>2021-02-06 09:45:00</td>\n",
       "      <td>200</td>\n",
       "      <td>17:45:00</td>\n",
       "      <td>2021-02-06</td>\n",
       "      <td>2021-02-06 17:00:00</td>\n",
       "      <td>2021-02-06 18:00:00</td>\n",
       "    </tr>\n",
       "    <tr>\n",
       "      <th>2</th>\n",
       "      <td>2021-03-05 19:30:00</td>\n",
       "      <td>300</td>\n",
       "      <td>03:30:00</td>\n",
       "      <td>2021-03-06</td>\n",
       "      <td>2021-03-06 03:00:00</td>\n",
       "      <td>2021-03-06 04:00:00</td>\n",
       "    </tr>\n",
       "    <tr>\n",
       "      <th>3</th>\n",
       "      <td>2018-03-01 23:30:00</td>\n",
       "      <td>1000</td>\n",
       "      <td>07:30:00</td>\n",
       "      <td>2018-03-02</td>\n",
       "      <td>2018-03-02 07:00:00</td>\n",
       "      <td>2018-03-02 08:00:00</td>\n",
       "    </tr>\n",
       "    <tr>\n",
       "      <th>4</th>\n",
       "      <td>2018-01-10 10:15:00</td>\n",
       "      <td>500</td>\n",
       "      <td>18:15:00</td>\n",
       "      <td>2018-01-10</td>\n",
       "      <td>2018-01-10 18:00:00</td>\n",
       "      <td>2018-01-10 19:00:00</td>\n",
       "    </tr>\n",
       "  </tbody>\n",
       "</table>\n",
       "</div>"
      ],
      "text/plain": [
       "            date_time  count      time        date date_time_hour_floor  \\\n",
       "0 2021-01-06 06:15:00    100  14:15:00  2021-01-06  2021-01-06 14:00:00   \n",
       "1 2021-02-06 09:45:00    200  17:45:00  2021-02-06  2021-02-06 17:00:00   \n",
       "2 2021-03-05 19:30:00    300  03:30:00  2021-03-06  2021-03-06 03:00:00   \n",
       "3 2018-03-01 23:30:00   1000  07:30:00  2018-03-02  2018-03-02 07:00:00   \n",
       "4 2018-01-10 10:15:00    500  18:15:00  2018-01-10  2018-01-10 18:00:00   \n",
       "\n",
       "  date_time_hour_ceiling  \n",
       "0    2021-01-06 15:00:00  \n",
       "1    2021-02-06 18:00:00  \n",
       "2    2021-03-06 04:00:00  \n",
       "3    2018-03-02 08:00:00  \n",
       "4    2018-01-10 19:00:00  "
      ]
     },
     "execution_count": 23,
     "metadata": {},
     "output_type": "execute_result"
    }
   ],
   "source": [
    "df['date_time'] = df['date_time'].dt.tz_localize(None)\n",
    "df.head()"
   ]
  }
 ],
 "metadata": {
  "kernelspec": {
   "display_name": "Python 3 (ipykernel)",
   "language": "python",
   "name": "python3"
  },
  "language_info": {
   "codemirror_mode": {
    "name": "ipython",
    "version": 3
   },
   "file_extension": ".py",
   "mimetype": "text/x-python",
   "name": "python",
   "nbconvert_exporter": "python",
   "pygments_lexer": "ipython3",
   "version": "3.9.6"
  },
  "toc": {
   "base_numbering": 1,
   "nav_menu": {},
   "number_sections": true,
   "sideBar": true,
   "skip_h1_title": false,
   "title_cell": "Table of Contents",
   "title_sidebar": "Contents",
   "toc_cell": true,
   "toc_position": {},
   "toc_section_display": true,
   "toc_window_display": true
  }
 },
 "nbformat": 4,
 "nbformat_minor": 5
}
